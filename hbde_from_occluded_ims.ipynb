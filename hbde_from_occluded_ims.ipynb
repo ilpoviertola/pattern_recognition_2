{
 "cells": [
  {
   "cell_type": "markdown",
   "metadata": {},
   "source": [
    "# Human Body Dimension Estimation (HBDE) from occluded images\n",
    "\n",
    "### Authors: M. Beiwinkler, M. Krimpelstätter, I. Viertola and T. Wulz"
   ]
  },
  {
   "cell_type": "code",
   "execution_count": 22,
   "metadata": {},
   "outputs": [],
   "source": [
    "import pandas as pd\n",
    "import numpy as np\n",
    "import matplotlib as plt\n",
    "import torch\n",
    "import json\n",
    "import os\n",
    "import glob\n",
    "from skimage.io import imread\n",
    "\n",
    "%matplotlib inline"
   ]
  },
  {
   "cell_type": "code",
   "execution_count": 17,
   "metadata": {},
   "outputs": [],
   "source": [
    "# Paths\n",
    "DATASET_PATH = os.path.join(os.getcwd(), \"dataset\")\n",
    "TRAIN_TEST_PATH = os.path.join(DATASET_PATH, os.path.join(\"train_test\", \"train_test_split.json\"))\n",
    "IMS_PATH = os.path.join(DATASET_PATH, os.path.join(\"synthetic_images\", \"200x200\"))\n",
    "\n",
    "if not os.path.exists(IMS_PATH):\n",
    "    print(\"Dataset does not exist {}\".format(DATASET_PATH))\n",
    "    exit()"
   ]
  },
  {
   "cell_type": "markdown",
   "metadata": {},
   "source": [
    "## Data preparation"
   ]
  },
  {
   "cell_type": "code",
   "execution_count": 40,
   "metadata": {},
   "outputs": [],
   "source": [
    "# Train/test split by img indices\n",
    "f = open(TRAIN_TEST_PATH, \"r\")\n",
    "train_test_split = json.load(f)\n",
    "f.close()\n",
    "\n",
    "# Load data\n",
    "im_data = []\n",
    "for fn in sorted(glob.glob(os.path.join(IMS_PATH, os.path.join(\"**\", \"*.png\")), recursive=True)):\n",
    "    img = imread(fn)\n",
    "    img = img.astype('float32')\n",
    "    img /= 255.0\n",
    "    im_data.append(img)\n",
    "\n",
    "im_data = np.array(im_data)\n",
    "\n",
    "if not im_data.shape == (12000, 200, 200):\n",
    "    print(\"Problems with image data.\")\n",
    "    exit()"
   ]
  },
  {
   "cell_type": "code",
   "execution_count": null,
   "metadata": {},
   "outputs": [],
   "source": []
  }
 ],
 "metadata": {
  "interpreter": {
   "hash": "4fdc2f73bf5d480b4cf34a598d9b45a8492d840372cfa5913d0a708f31ebf008"
  },
  "kernelspec": {
   "display_name": "Python 3.8.8 64-bit ('computer_vision': conda)",
   "language": "python",
   "name": "python3"
  },
  "language_info": {
   "codemirror_mode": {
    "name": "ipython",
    "version": 3
   },
   "file_extension": ".py",
   "mimetype": "text/x-python",
   "name": "python",
   "nbconvert_exporter": "python",
   "pygments_lexer": "ipython3",
   "version": "3.8.8"
  },
  "orig_nbformat": 4
 },
 "nbformat": 4,
 "nbformat_minor": 2
}
